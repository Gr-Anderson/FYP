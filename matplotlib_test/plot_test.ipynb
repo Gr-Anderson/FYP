{
 "cells": [
  {
   "cell_type": "code",
   "execution_count": 1,
   "metadata": {},
   "outputs": [
    {
     "data": {
      "text/plain": [
       "<Figure size 640x480 with 1 Axes>"
      ]
     },
     "metadata": {},
     "output_type": "display_data"
    }
   ],
   "source": [
    "# import csv\n",
    "# import numpy as np\n",
    "import pandas as pd\n",
    "# from collections import Counter\n",
    "from matplotlib import pyplot as plt\n",
    "\n",
    "plt.style.use(\"fivethirtyeight\")\n",
    "\n",
    "data = pd.read_csv('5_sec.csv')\n",
    "voltage = data['voltage']\n",
    "the_time = []\n",
    "\n",
    "for i in range(0,1009):\n",
    "    the_time.append(i)\n",
    "    \n",
    "plt.plot(the_time, voltage)\n",
    "\n",
    "# languages = []\n",
    "# popularity = []\n",
    "\n",
    "# for item in language_counter.most_common(15):\n",
    "#     languages.append(item[0])\n",
    "#     popularity.append(item[1])\n",
    "\n",
    "# languages.reverse()\n",
    "# popularity.reverse()\n",
    "\n",
    "# plt.barh(languages, popularity)\n",
    "\n",
    "# plt.title(\"Most Popular Languages\")\n",
    "# # plt.ylabel(\"Programming Languages\")\n",
    "# plt.xlabel(\"Number of People Who Use\")\n",
    "\n",
    "plt.tight_layout()\n",
    "\n",
    "plt.show()"
   ]
  },
  {
   "cell_type": "code",
   "execution_count": null,
   "metadata": {},
   "outputs": [],
   "source": [
    "the_time"
   ]
  }
 ],
 "metadata": {
  "kernelspec": {
   "display_name": "Python 3",
   "language": "python",
   "name": "python3"
  },
  "language_info": {
   "codemirror_mode": {
    "name": "ipython",
    "version": 3
   },
   "file_extension": ".py",
   "mimetype": "text/x-python",
   "name": "python",
   "nbconvert_exporter": "python",
   "pygments_lexer": "ipython3",
   "version": "3.6.9"
  }
 },
 "nbformat": 4,
 "nbformat_minor": 2
}
