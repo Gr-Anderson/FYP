{
 "cells": [
  {
   "cell_type": "markdown",
   "metadata": {},
   "source": [
    "# Sendex - Template Matching"
   ]
  },
  {
   "cell_type": "code",
   "execution_count": 1,
   "metadata": {},
   "outputs": [],
   "source": [
    "# https://www.youtube.com/watch?v=2CZltXv-Gpk\n",
    "\n",
    "import cv2\n",
    "import numpy as np\n",
    "\n",
    "# def read_in_ecg():\n",
    "img = cv2.imread(\"image_test.png\", 0)\n",
    "# return img\n",
    "\n",
    "# def aquire_template(img):\n",
    "template = img[70:500,160:570]\n",
    "# return template\n",
    "\n",
    "flipVertical = cv2.flip(img, 0)\n",
    "\n",
    "\n",
    "\n",
    "# def match_template():\n",
    "# img = read_in_ecg()\n",
    "# template = aquire_template(img)\n",
    "\n",
    "# w, h = template.shape[::-1]\n",
    "# res = cv2.matchTemplate(img,template,cv2.TM_CCOEFF_NORMED)\n",
    "# threshold = 0.9\n",
    "# loc = np.where( res >= threshold)\n",
    "# for pt in zip(*loc[::-1]):\n",
    "#     cv2.rectangle(img, pt, (pt[0] + w, pt[1] + h), (0,255,255), 2)\n",
    "cv2.imshow('Detected',img)\n",
    "cv2.waitKey(0) & 0xFF\n",
    "cv2.destroyAllWindows()\n",
    "\n",
    "# print(img.shape)\n",
    "    \n",
    "# match_template()\n"
   ]
  },
  {
   "cell_type": "code",
   "execution_count": 11,
   "metadata": {},
   "outputs": [
    {
     "name": "stdout",
     "output_type": "stream",
     "text": [
      "YES MODDAFUCKERS\n"
     ]
    }
   ],
   "source": [
    "# image_test\n",
    "import cv2\n",
    "import numpy as np\n",
    "\n",
    "img_ecg = cv2.imread('image_test.png', 0)\n",
    "\n",
    "template = cv2.imread('ecg_template.png',0)\n",
    "w, h = template.shape[::-1]\n",
    "\n",
    "res = cv2.matchTemplate(img_ecg,template,cv2.TM_CCOEFF_NORMED)\n",
    "threshold = 0.9\n",
    "loc = np.where( res >= threshold)\n",
    "if (len(loc) != 0):\n",
    "    print (\"YES MODDAFUCKERS\")\n",
    "# print (loc)\n",
    "\n",
    "for pt in zip(*loc[::-1]):\n",
    "     cv2.rectangle(img_ecg, pt, (pt[0] + w, pt[1] + h), (0,255,255), 2)\n",
    "\n",
    "cv2.imshow('Detected',img_ecg)\n",
    "cv2.waitKey(0) & 0xFF\n",
    "cv2.destroyAllWindows()\n",
    "\n"
   ]
  },
  {
   "cell_type": "code",
   "execution_count": 2,
   "metadata": {},
   "outputs": [],
   "source": [
    "# https://www.youtube.com/watch?v=sghglbXyjHc&t=406s\n",
    "import cv2\n",
    "img = cv2.imread(\"image_test.png\")\n",
    "\n",
    "\n",
    "\n",
    "\n",
    "# crop_img = img[y:y+h, x:x+w]\n",
    "crop_img = img[70:500,160:570]\n",
    "cv2.imshow(\"cropped\", crop_img)\n",
    "\n",
    "\n",
    "\n",
    "# cv2.imshow('Detected',img)\n",
    "cv2.waitKey(0) & 0xFF\n",
    "cv2.destroyAllWindows()"
   ]
  }
 ],
 "metadata": {
  "kernelspec": {
   "display_name": "Python 3.6.8 64-bit ('biometric_authentication': virtualenv)",
   "language": "python",
   "name": "python36864bitbiometricauthenticationvirtualenv54dcfa07294e40f484703143c5416b0f"
  },
  "language_info": {
   "codemirror_mode": {
    "name": "ipython",
    "version": 3
   },
   "file_extension": ".py",
   "mimetype": "text/x-python",
   "name": "python",
   "nbconvert_exporter": "python",
   "pygments_lexer": "ipython3",
   "version": "3.6.8"
  }
 },
 "nbformat": 4,
 "nbformat_minor": 4
}
