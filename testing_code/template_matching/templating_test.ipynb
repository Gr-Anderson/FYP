{
 "cells": [
  {
   "cell_type": "markdown",
   "metadata": {},
   "source": [
    "# Sendex - Template Matching"
   ]
  },
  {
   "cell_type": "code",
   "execution_count": 7,
   "metadata": {},
   "outputs": [],
   "source": [
    "# https://www.youtube.com/watch?v=2CZltXv-Gpk\n",
    "import cv2\n",
    "import numpy as np\n",
    "\n",
    "img_rgb = cv2.imread('opencv-template-matching-python-tutorial.jpg')\n",
    "img_gray = cv2.cvtColor(img_rgb, cv2.COLOR_BGR2GRAY)\n",
    "\n",
    "template = cv2.imread('opencv-template-for-matching.jpg',0)\n",
    "w, h = template.shape[::-1]\n",
    "\n",
    "res = cv2.matchTemplate(img_gray,template,cv2.TM_CCOEFF_NORMED)\n",
    "threshold = 0.9\n",
    "loc = np.where( res >= threshold)\n",
    "\n",
    "for pt in zip(*loc[::-1]):\n",
    "    cv2.rectangle(img_rgb, pt, (pt[0] + w, pt[1] + h), (0,255,255), 2)\n",
    "\n",
    "cv2.imshow('Detected',img_rgb)\n",
    "cv2.waitKey(0) & 0xFF\n",
    "cv2.destroyAllWindows()\n"
   ]
  },
  {
   "cell_type": "code",
   "execution_count": 5,
   "metadata": {},
   "outputs": [
    {
     "name": "stdout",
     "output_type": "stream",
     "text": [
      "YES MODDAFUCKERS\n"
     ]
    }
   ],
   "source": [
    "# image_test\n",
    "import cv2\n",
    "import numpy as np\n",
    "\n",
    "img_ecg = cv2.imread('image_test.png', 0)\n",
    "\n",
    "template = cv2.imread('ecg_template.png',0)\n",
    "w, h = template.shape[::-1]\n",
    "\n",
    "res = cv2.matchTemplate(img_ecg,template,cv2.TM_CCOEFF_NORMED)\n",
    "threshold = 0.9\n",
    "loc = np.where( res >= threshold)\n",
    "if (len(loc) != 0):\n",
    "    print (\"YES MODDAFUCKERS\")\n",
    "# print (loc)\n",
    "\n",
    "for pt in zip(*loc[::-1]):\n",
    "     cv2.rectangle(img_ecg, pt, (pt[0] + w, pt[1] + h), (0,255,255), 2)\n",
    "\n",
    "cv2.imshow('Detected',img_ecg)\n",
    "cv2.waitKey(0) & 0xFF\n",
    "cv2.destroyAllWindows()\n",
    "\n"
   ]
  }
 ],
 "metadata": {
  "kernelspec": {
   "display_name": "Python 3.6.8 64-bit ('biometric_authentication': virtualenv)",
   "language": "python",
   "name": "python36864bitbiometricauthenticationvirtualenv54dcfa07294e40f484703143c5416b0f"
  },
  "language_info": {
   "codemirror_mode": {
    "name": "ipython",
    "version": 3
   },
   "file_extension": ".py",
   "mimetype": "text/x-python",
   "name": "python",
   "nbconvert_exporter": "python",
   "pygments_lexer": "ipython3",
   "version": "3.6.8"
  }
 },
 "nbformat": 4,
 "nbformat_minor": 4
}
