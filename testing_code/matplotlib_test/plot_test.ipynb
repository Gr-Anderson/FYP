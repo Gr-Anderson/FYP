{
 "cells": [
  {
   "cell_type": "markdown",
   "metadata": {},
   "source": [
    "# Finding Peaks"
   ]
  },
  {
   "cell_type": "code",
   "execution_count": 1,
   "metadata": {},
   "outputs": [
    {
     "name": "stdout",
     "output_type": "stream",
     "text": [
      "[{317, 39}]\n",
      "[{317, 39}, {805, 45}]\n",
      "[{317, 39}, {805, 45}, {1005, 391}]\n"
     ]
    }
   ],
   "source": [
    "import numpy as np\n",
    "import cv2 as cv\n",
    "              \n",
    "    \n",
    "def find_peaks(peaks_list, y, x):\n",
    "    for y_cors in range (y,image_y):\n",
    "        for x_cors in range (x, image_x):\n",
    "            if img[y_cors, x_cors] == 0:\n",
    "                x = x_cors + 200\n",
    "                if {y_cors, x_cors} not in peaks_list:\n",
    "                    peaks_list.append({y_cors, x_cors})\n",
    "                print(peaks_list)\n",
    "                return x\n",
    "    return x\n",
    "\n",
    "\n",
    "img = cv.imread('filtered.png', 0)\n",
    "image_x = (img.shape[1])\n",
    "image_y = (img.shape[0])\n",
    "x = 0\n",
    "y = 0\n",
    "peaks_list = []\n",
    "keep_looping = True\n",
    "\n",
    "while keep_looping:\n",
    "    if x < image_x:\n",
    "        x = (find_peaks(peaks_list, y, x))\n",
    "    else:\n",
    "        keep_looping = False\n",
    "\n",
    "# cv.imshow('image', img)\n",
    "# cv.waitKey(0) & 0xFF\n",
    "# cv.destroyAllWindows()"
   ]
  },
  {
   "cell_type": "code",
   "execution_count": null,
   "metadata": {},
   "outputs": [],
   "source": [
    "peaks_list"
   ]
  },
  {
   "cell_type": "markdown",
   "metadata": {},
   "source": [
    "# Input and filter signal"
   ]
  },
  {
   "cell_type": "code",
   "execution_count": null,
   "metadata": {},
   "outputs": [],
   "source": [
    "import pandas as pd\n",
    "import numpy as np\n",
    "from scipy import signal\n",
    "# from matplotlib import figure\n",
    "import matplotlib.pyplot as plt\n",
    "\n",
    "plt.figure(num=None, figsize=(10, 5), dpi=80, facecolor=\"w\", edgecolor=\"k\")\n",
    "\n",
    "b, a = signal.butter(4, 0.25, analog=False)\n",
    "\n",
    "data = pd.read_csv(\"test12.csv\")\n",
    "sig = data[\"voltage\"]\n",
    "\n",
    "sig_ff = signal.filtfilt(b, a, sig)\n",
    "\n",
    "plt.plot(sig_ff, color=\"#000000\", linewidth=2)\n",
    "plt.axis('off')\n",
    "\n",
    "\n",
    "plt.savefig(\"filtered.png\", dpi=150, quality=100, bbox_inches='tight')\n",
    "plt.tight_layout()\n",
    "plt.show()\n"
   ]
  },
  {
   "cell_type": "code",
   "execution_count": null,
   "metadata": {},
   "outputs": [],
   "source": [
    "import numpy as np\n",
    "import cv2 as cv\n",
    "\n",
    "\n",
    "def find_peaks(peaks_list, y, x):\n",
    "#     print(\"FUCK\", x, y)\n",
    "    for y_cors in range (y,image_y):\n",
    "#         print(\"FUCK\", y_cors)\n",
    "        for x_cors in range (x, image_x):\n",
    "            if img[y_cors, x_cors] == 0:\n",
    "                print(y_cors, x_cors)\n",
    "                x = x_cors + 200\n",
    "                if {y_cors, x_cors} not in peaks_list:\n",
    "                    peaks_list.append({y_cors, x_cors})\n",
    "                print(peaks_list)\n",
    "                return x\n",
    "    return x\n",
    "    \n",
    "    \n",
    "# test_list = [ [1,1,1,1,1,1,1,1,1,1,1,1],\n",
    "#               [1,1,0,1,1,1,1,1,0,1,1,0],\n",
    "#               [1,1,1,1,1,1,1,1,1,1,1,1],\n",
    "#               [1,1,1,1,1,1,1,1,1,1,1,1],\n",
    "#               [1,1,1,1,1,1,1,1,1,1,1,1],\n",
    "#               [1,1,1,1,1,1,1,1,1,1,1,1],]\n",
    "\n",
    "img = cv.imread('filtered.png', 0)\n",
    "\n",
    "image_x = (img.shape[1])\n",
    "image_y = (img.shape[0])\n",
    "\n",
    "# image_x = 12\n",
    "# image_y = 3\n",
    "x = 0\n",
    "y = 0\n",
    "peaks_list = []\n",
    "keep_looping = True\n",
    "\n",
    "while keep_looping:\n",
    "    if x < image_x:\n",
    "        x = (find_peaks(peaks_list, y, x))\n",
    "    else:\n",
    "        keep_looping = False\n",
    "        \n",
    "\n",
    "cv.imshow('image', img)\n",
    "cv.waitKey(0) & 0xFF\n",
    "cv.destroyAllWindows()"
   ]
  },
  {
   "cell_type": "code",
   "execution_count": 2,
   "metadata": {},
   "outputs": [
    {
     "ename": "NameError",
     "evalue": "name 'pd' is not defined",
     "output_type": "error",
     "traceback": [
      "\u001b[0;31m---------------------------------------------------------------------------\u001b[0m",
      "\u001b[0;31mNameError\u001b[0m                                 Traceback (most recent call last)",
      "\u001b[0;32m<ipython-input-2-60ecfed7a903>\u001b[0m in \u001b[0;36m<module>\u001b[0;34m\u001b[0m\n\u001b[1;32m      3\u001b[0m \u001b[0;32mfrom\u001b[0m \u001b[0mscipy\u001b[0m\u001b[0;34m.\u001b[0m\u001b[0msignal\u001b[0m \u001b[0;32mimport\u001b[0m \u001b[0margrelextrema\u001b[0m\u001b[0;34m\u001b[0m\u001b[0;34m\u001b[0m\u001b[0m\n\u001b[1;32m      4\u001b[0m \u001b[0;34m\u001b[0m\u001b[0m\n\u001b[0;32m----> 5\u001b[0;31m \u001b[0mdata\u001b[0m \u001b[0;34m=\u001b[0m \u001b[0mpd\u001b[0m\u001b[0;34m.\u001b[0m\u001b[0mread_csv\u001b[0m\u001b[0;34m(\u001b[0m\u001b[0;34m\"project_presentation.csv\"\u001b[0m\u001b[0;34m)\u001b[0m\u001b[0;34m\u001b[0m\u001b[0;34m\u001b[0m\u001b[0m\n\u001b[0m\u001b[1;32m      6\u001b[0m \u001b[0;34m\u001b[0m\u001b[0m\n\u001b[1;32m      7\u001b[0m \u001b[0mcut_off_end\u001b[0m \u001b[0;34m=\u001b[0m \u001b[0;34m(\u001b[0m\u001b[0mdata\u001b[0m\u001b[0;34m.\u001b[0m\u001b[0mshape\u001b[0m\u001b[0;34m[\u001b[0m\u001b[0;36m0\u001b[0m\u001b[0;34m]\u001b[0m \u001b[0;34m-\u001b[0m \u001b[0;36m100\u001b[0m\u001b[0;34m)\u001b[0m\u001b[0;34m\u001b[0m\u001b[0;34m\u001b[0m\u001b[0m\n",
      "\u001b[0;31mNameError\u001b[0m: name 'pd' is not defined"
     ]
    }
   ],
   "source": [
    "import numpy as np                    \n",
    "import matplotlib.pyplot as plt \n",
    "from scipy.signal import argrelextrema\n",
    "\n",
    "data = pd.read_csv(\"project_presentation.csv\")\n",
    "\n",
    "cut_off_end = (data.shape[0] - 100)\n",
    "\n",
    "data = data[1:cut_off_end]\n",
    "\n",
    "\n",
    "no_of_rows = data.shape[0]\n",
    "\n",
    "voltage = data[\"voltage\"]\n",
    "line_numbers = []\n",
    "\n",
    "for i in range(0, no_of_rows):\n",
    "    line_numbers.append(i)\n",
    "    \n",
    "ecg_plot = np.concatenate((voltage, line_numbers))\n",
    "\n",
    "# plt.plot(line_numbers, voltage)\n",
    "\n",
    "c_max_index = argrelextrema(ecg_plot, np.greater, order=45)\n",
    "\n",
    "plt.plot(ecg_plot)\n",
    "\n",
    "plt.scatter(c_max_index[0],ecg_plot[c_max_index[0]],linewidth=0.3, s=50, c='r')"
   ]
  },
  {
   "cell_type": "code",
   "execution_count": 70,
   "metadata": {},
   "outputs": [
    {
     "name": "stdout",
     "output_type": "stream",
     "text": [
      "1420\n",
      "1220\n"
     ]
    }
   ],
   "source": [
    "data = pd.read_csv(\"project_presentation.csv\")\n",
    "print (data.shape[0])\n",
    "\n",
    "cut_off_end = (data.shape[0] - 100)\n",
    "\n",
    "data = data[100:cut_off_end]\n",
    "\n",
    "print (data.shape[0])"
   ]
  },
  {
   "cell_type": "code",
   "execution_count": null,
   "metadata": {},
   "outputs": [],
   "source": [
    "img[340,60]\n",
    "\n",
    "# img\n",
    "# print (img)\n",
    "# print (image_x)\n",
    "# print (image_y)\n",
    "\n",
    "# print (img.shape[1])\n",
    "# print (img.size)\n",
    "# print (img.dtype)\n",
    "# image_x = img.shape\n",
    "\n",
    "\n",
    "# print(image_x)\n",
    "\n",
    "\n",
    "# cv.imshow('image', img)\n",
    "# cv.waitKey(0) & 0xFF\n",
    "# cv.destroyAllWindows()\n"
   ]
  }
 ],
 "metadata": {
  "kernelspec": {
   "display_name": "Python 3",
   "language": "python",
   "name": "python3"
  },
  "language_info": {
   "codemirror_mode": {
    "name": "ipython",
    "version": 3
   },
   "file_extension": ".py",
   "mimetype": "text/x-python",
   "name": "python",
   "nbconvert_exporter": "python",
   "pygments_lexer": "ipython3",
   "version": "3.6.8"
  }
 },
 "nbformat": 4,
 "nbformat_minor": 2
}
