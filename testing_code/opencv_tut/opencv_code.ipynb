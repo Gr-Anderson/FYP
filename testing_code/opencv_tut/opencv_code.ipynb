{
 "cells": [
  {
   "cell_type": "code",
   "execution_count": 4,
   "metadata": {},
   "outputs": [],
   "source": [
    "import numpy as np\n",
    "import cv2 as cv"
   ]
  },
  {
   "cell_type": "code",
   "execution_count": 7,
   "metadata": {},
   "outputs": [
    {
     "name": "stdout",
     "output_type": "stream",
     "text": [
      "(1162, 2355)\n",
      "2736510\n",
      "uint8\n"
     ]
    }
   ],
   "source": [
    "import numpy as np\n",
    "import cv2 as cv\n",
    "\n",
    "img = cv.imread('filtered.png', 0)\n",
    "\n",
    "# img = cv2.IMREAD_LOAD_GDAL('filtered.png')\n",
    "\n",
    "print (img.shape)\n",
    "print (img.size)\n",
    "print (img.dtype)\n",
    "\n",
    "# ball = img[280:340, 330:390]\n",
    "# grass = img[273:283, 100:110]\n",
    "# # img[273:333, 100:160] = ball\n",
    "# img[280:340, 330:390] = grass\n",
    "\n",
    "cv.imshow('image', img)\n",
    "cv.waitKey(0) & 0xFF\n",
    "cv.destroyAllWindows()\n",
    "\n",
    "\n",
    "\n",
    "# k = cv2.waitKey(0) & 0xFF\n",
    "# if k == 27:\n",
    "#     cv2.destroyAllWindows()\n",
    "# elif k == ord('s'):\n",
    "#     cv2.imwrite('lena_copy.jpg', img)\n",
    "#     cv2.destroyAllWindows()\n",
    "\n"
   ]
  },
  {
   "cell_type": "code",
   "execution_count": 8,
   "metadata": {},
   "outputs": [
    {
     "data": {
      "text/plain": [
       "array([[255, 255, 255, ..., 255, 255, 255],\n",
       "       [255, 255, 255, ..., 255, 255, 255],\n",
       "       [255, 255, 255, ..., 255, 255, 255],\n",
       "       ...,\n",
       "       [255, 255, 255, ..., 255, 255, 255],\n",
       "       [255, 255, 255, ..., 255, 255, 255],\n",
       "       [255, 255, 255, ..., 255, 255, 255]], dtype=uint8)"
      ]
     },
     "execution_count": 8,
     "metadata": {},
     "output_type": "execute_result"
    }
   ],
   "source": [
    "img"
   ]
  },
  {
   "cell_type": "code",
   "execution_count": null,
   "metadata": {},
   "outputs": [],
   "source": [
    "import numpy as np\n",
    "import cv2 as cv\n",
    "\n",
    "img = cv.imread('filtered.png')\n",
    "\n",
    "gray = cv.cvtColor(img, cv.COLOR_BGR2GRAY)\n",
    "\n",
    "corners = cv.goodFeaturesToTrack(gray, 1000, 0.01, 10)\n",
    "\n",
    "corners = np.int0(corners)\n",
    "\n",
    "for i in corners:\n",
    "    x, y = i.ravel()\n",
    "    cv.circle(img, (x, y), 3, [255, 255, 0], -1)\n",
    "\n",
    "cv.imshow('Shi-Tomasi Corner Detector', img)\n",
    "\n",
    "if cv.waitKey(0) & 0xff == 27:\n",
    "    cv.destroyAllWindows()"
   ]
  },
  {
   "cell_type": "code",
   "execution_count": null,
   "metadata": {},
   "outputs": [],
   "source": [
    "from scipy import signal\n",
    "import numpy as np\n",
    "import matplotlib.pyplot as plt\n",
    "t = np.linspace(0, 1, 500, endpoint=False)\n",
    "plt.plot(t, signal.square(2 * np.pi * 5 * t))\n",
    "plt.ylim(-2, 2)\n",
    "\n",
    "plt.figure()\n",
    "sig = np.sin(2 * np.pi * t)\n",
    "pwm = signal.square(2 * np.pi * 30 * t, duty=(sig + 1)/2)\n",
    "plt.subplot(2, 1, 1)\n",
    "plt.plot(t, sig)\n",
    "plt.subplot(2, 1, 2)\n",
    "plt.plot(t, pwm)\n",
    "plt.ylim(-1.5, 1.5)"
   ]
  },
  {
   "cell_type": "code",
   "execution_count": null,
   "metadata": {},
   "outputs": [],
   "source": [
    "!pip install scipy\n"
   ]
  }
 ],
 "metadata": {
  "kernelspec": {
   "display_name": "biometric_authentication",
   "language": "python",
   "name": "biometric_authentication"
  },
  "language_info": {
   "codemirror_mode": {
    "name": "ipython",
    "version": 3
   },
   "file_extension": ".py",
   "mimetype": "text/x-python",
   "name": "python",
   "nbconvert_exporter": "python",
   "pygments_lexer": "ipython3",
   "version": "3.6.8"
  }
 },
 "nbformat": 4,
 "nbformat_minor": 2
}
